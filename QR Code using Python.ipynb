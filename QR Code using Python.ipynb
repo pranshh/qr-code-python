{
  "cells": [
    {
      "cell_type": "code",
      "execution_count": null,
      "metadata": {
        "colab": {
          "base_uri": "https://localhost:8080/"
        },
        "id": "l_nGMq8qvoUZ",
        "outputId": "fe402b7f-fe75-4f02-9311-f2c7965333fc"
      },
      "outputs": [],
      "source": [
        "%pip install qrcode"
      ]
    },
    {
      "cell_type": "code",
      "execution_count": 23,
      "metadata": {
        "id": "Di-dmj533Vil"
      },
      "outputs": [],
      "source": [
        "# Importing library\n",
        "import qrcode\n",
        " \n",
        "# Data to encode\n",
        "data = \"https://pranshujaiswal.netlify.app\"\n",
        " \n",
        "# Creating an instance of QRCode class\n",
        "qr = qrcode.QRCode(version = 1, box_size = 10, border = 3)\n",
        " \n",
        "# Adding data to the instance 'qr'\n",
        "qr.add_data(data)\n",
        " \n",
        "qr.make(fit = True)\n",
        "img = qr.make_image(fill_color = 'red', back_color = 'white')\n",
        " \n",
        "img.save('MyQRCode.png')"
      ]
    }
  ],
  "metadata": {
    "colab": {
      "provenance": []
    },
    "kernelspec": {
      "display_name": "Python 3",
      "name": "python3"
    },
    "language_info": {
      "codemirror_mode": {
        "name": "ipython",
        "version": 3
      },
      "file_extension": ".py",
      "mimetype": "text/x-python",
      "name": "python",
      "nbconvert_exporter": "python",
      "pygments_lexer": "ipython3",
      "version": "3.11.4"
    }
  },
  "nbformat": 4,
  "nbformat_minor": 0
}
